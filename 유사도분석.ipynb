{
 "cells": [
  {
   "cell_type": "code",
   "execution_count": 1,
   "id": "05c31fe7-c4b5-4d14-9f1f-e987ad4493c3",
   "metadata": {},
   "outputs": [],
   "source": [
    "# !pip install git+https://github.com/haven-jeon/PyKoSpacing.git\n",
    "# !pip install tensorflow"
   ]
  },
  {
   "cell_type": "code",
   "execution_count": null,
   "id": "edafb578-a37f-4628-b261-5887dbd3a020",
   "metadata": {},
   "outputs": [],
   "source": [
    "import pandas as pd\n",
    "import time\n",
    "from tqdm import tqdm"
   ]
  },
  {
   "cell_type": "code",
   "execution_count": null,
   "id": "fe5771af-798c-4538-92d9-7e62519673dc",
   "metadata": {},
   "outputs": [],
   "source": [
    "from pykospacing import Spacing"
   ]
  },
  {
   "cell_type": "code",
   "execution_count": null,
   "id": "192eaefd-75cb-4f2c-a972-90099ba06486",
   "metadata": {},
   "outputs": [],
   "source": [
    "from pykospacing import Spacing\n",
    "from sklearn.feature_extraction.text import TfidfVectorizer\n",
    "from sklearn.metrics.pairwise import cosine_similarity\n",
    "\n",
    "sentence1 = \"구리시, 2월 나를 지켜주는 건강특강 운영 한양대학교 구리병원 협력… 폐결절의 진단 방법과 치료법 공유 구리시(시장 백경현)는 오는 2월 7일부터 ‘검진에서 발견된 폐결절의 진단 및 치료’를 주제로 한 건강특강을 구리시 공식 유튜브 채널(구리비전)을 통해 송출한다고 밝혔다.이번 강의는 한양대학교구리병원 심장혈관흉부외과 최수환 교수의 진행으로 폐결절의 정확한 진단 방법과 최신 치료법에 대해 공유한다.대한심장혈관흉부외과학회에 따르면, 폐결절은 정기 건강검진에서 자주 발견되고 조기 발견과 관리가 중요하며, 악성으로 발전할 가능성이 있어 정확한 진단과 치료가 필요하다.이에 이번 교육은 2월 7일부터 20일까지 운영하며, 폐결절의 정의, 발생 원인, 진단 방법, 치료 옵션 및 예후 등 실용적인 정보를 제공하며, 시민들이 실생활에서 실천할 수 있는 폐 건강 관리 방법도 함께 소개된다.유투브 강의를 시청하고 궁금한 사항을 댓글로 남기면 우수질문 3개를 선정하여 특강 전문의가 답변하고, 이 외 17명을 무작위로 선정하여 총 20명의 시민에게 모바일 쿠폰을 증정할 예정이다.백경현 구리시장은 “이번 특강은 폐결절에 대한 올바른 이해와 예방을 위해 마련된 중요한 강의로, 많은 시민께서 참여하여 폐 건강을 지키는 데 필요한 정보를 얻어가시길 바란다.”라고 말했다.이와 관련한 자세한 사항은 구리시보건소 건강증진과(☎031-550-8612)로 문의하면 된다.\"\n",
    "sentence2 = \"구리시는 오는 2월 7일부터 ‘검진에서 발견된 폐결절의 진단 및 치료’를 주제로 한 건강특강을 구리시 공식 유튜브 채널(구리비전)을 통해 송출한다고 밝혔다. 이번 강의는 한양대학교구리병원 심장혈관흉부외과 최수환 교수의 진행으로 폐결절의 정확한 진단 방법과 최신 치료법에 대해 공유한다. 대한심장혈관흉부외과학회에 따르면, 폐결절은 정기 건강검진에서 자주 발견되고 조기 발견과 관리가 중요하며, 악성으로 발전할 가능성이 있어 정확한 진단과 치료가 필요하다. 이에 이번 교육은 2월 7일부터 20일까지 운영하며, 폐결절의 정의, 발생 원인, 진단 방법, 치료 옵션 및 예후 등 실용적인 정보를 제공하며, 시민들이 실생활에서 실천할 수 있는 폐 건강 관리 방법도 함께 소개된다. 유튜브 강의를 시청하고 궁금한 사항을 댓글로 남기면 우수질문 3개를 선정하여 특강 전문의가 답변하고, 이 외 17명을 무작위로 선정하여 총 20명의 시민에게 모바일 쿠폰을 증정할 예정이다. 백경현 구리시장은 “이번 특강은 폐결절에 대한 올바른 이해와 예방을 위해 마련된 중요한 강의로, 많은 시민께서 참여하여 폐 건강을 지키는 데 필요한 정보를 얻어가시길 바란다”라고 말했다. 이와 관련한 자세한 사항은 구리시보건소 건강증진과로 문의하면 된다.\"\n",
    "\n",
    "# 띄어쓰기 교정\n",
    "spacing = Spacing()\n",
    "sentence1_spaced = spacing(sentence1)\n",
    "sentence2_spaced = spacing(sentence2)\n",
    "\n",
    "# TF-IDF 벡터화 및 유사도 계산\n",
    "vectorizer = TfidfVectorizer()\n",
    "tfidf_matrix = vectorizer.fit_transform([sentence1_spaced, sentence2_spaced])\n",
    "cosine_sim = cosine_similarity(tfidf_matrix[0:1], tfidf_matrix[1:2])\n",
    "\n",
    "print(f\"코사인 유사도: {cosine_sim[0][0]}\""
   ]
  },
  {
   "cell_type": "code",
   "execution_count": null,
   "id": "f5b94e27-bf9c-4b17-b28f-e97fd36f39ee",
   "metadata": {},
   "outputs": [],
   "source": [
    "kosp = Spacing(rules = [\"업무인가\", \"김정숙\", \"여수\", \"고진영\", \"문다혜\", \"박윤재\", \"캐스퍼\", \"목사방\", \"신해곤\", \"K칩스법\"])"
   ]
  },
  {
   "cell_type": "code",
   "execution_count": null,
   "id": "72ff7ee3-1ffa-4560-b0bb-141b26276433",
   "metadata": {},
   "outputs": [],
   "source": [
    "import pandas as pd\n",
    "from sklearn.feature_extraction.text import TfidfVectorizer\n",
    "from sklearn.metrics.pairwise import cosine_similarity\n",
    "from tqdm import tqdm\n",
    "\n",
    "# 데이터 로드\n",
    "file_path = \"processed_titles.csv\"\n",
    "data = pd.read_csv(file_path)\n",
    "\n",
    "# 제목 리스트 추출\n",
    "titles = data[\"정리된_제목\"].dropna().tolist()\n",
    "\n",
    "# TF-IDF 벡터화\n",
    "vectorizer = TfidfVectorizer()\n",
    "tfidf_matrix = vectorizer.fit_transform(titles)\n",
    "\n",
    "# 코사인 유사도를 배치로 계산\n",
    "threshold = 0.7  # 유사도 기준\n",
    "batch_size = 1000  # 배치 크기\n",
    "results = []\n",
    "visited = set()\n",
    "\n",
    "for start_idx in tqdm(range(0, len(titles), batch_size), desc=\"Processing batches\"):\n",
    "    end_idx = min(start_idx + batch_size, len(titles))\n",
    "    batch_sim = cosine_similarity(tfidf_matrix[start_idx:end_idx], tfidf_matrix)\n",
    "    \n",
    "    for row_idx in range(batch_sim.shape[0]):\n",
    "        global_idx = start_idx + row_idx\n",
    "        if global_idx in visited:\n",
    "            continue\n",
    "        \n",
    "        # 현재 제목과의 유사도 계산\n",
    "        similar_indices = [\n",
    "            i for i, score in enumerate(batch_sim[row_idx]) if score >= threshold and i != global_idx\n",
    "        ]\n",
    "        visited.update(similar_indices)\n",
    "        visited.add(global_idx)\n",
    "        \n",
    "        # 대표 제목, 유사한 기사 수, 유사한 기사들의 제목 저장\n",
    "        similar_titles = [titles[i] for i in similar_indices]\n",
    "        results.append({\n",
    "            \"대표_제목\": titles[global_idx],\n",
    "            \"유사한_기사_수\": len(similar_titles) + 1,  # 자기 자신 포함\n",
    "            \"유사_기사_제목\": \"; \".join(similar_titles)\n",
    "        })\n",
    "\n",
    "# 결과를 DataFrame으로 변환\n",
    "results_df = pd.DataFrame(results)\n",
    "\n",
    "# 유사한 기사 수로 내림차순 정렬\n",
    "results_df = results_df.sort_values(by=\"유사한_기사_수\", ascending=False)\n",
    "\n",
    "# 결과 저장\n",
    "output_file = \"similar_titles_summary.csv\"\n",
    "results_df.to_csv(output_file, index=False, encoding=\"utf-8-sig\")\n",
    "\n",
    "print(f\"결과 파일이 저장되었습니다: {output_file}\")"
   ]
  }
 ],
 "metadata": {
  "kernelspec": {
   "display_name": "Python 3 (ipykernel)",
   "language": "python",
   "name": "python3"
  },
  "language_info": {
   "codemirror_mode": {
    "name": "ipython",
    "version": 3
   },
   "file_extension": ".py",
   "mimetype": "text/x-python",
   "name": "python",
   "nbconvert_exporter": "python",
   "pygments_lexer": "ipython3",
   "version": "3.11.9"
  }
 },
 "nbformat": 4,
 "nbformat_minor": 5
}
